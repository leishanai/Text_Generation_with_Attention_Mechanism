{
 "cells": [
  {
   "cell_type": "code",
   "execution_count": 1,
   "metadata": {},
   "outputs": [],
   "source": [
    "# data preprossessing\n",
    "from __future__ import unicode_literals, print_function, division\n",
    "import numpy as np\n",
    "from io import open\n",
    "import unicodedata\n",
    "import string\n",
    "import re\n",
    "import random\n",
    "from sklearn.model_selection import train_test_split\n",
    "# helper\n",
    "import time\n",
    "import math\n",
    "# plot\n",
    "import matplotlib.pyplot as plt\n",
    "plt.switch_backend('agg')\n",
    "import matplotlib.ticker as ticker\n",
    "# torch\n",
    "import torch\n",
    "import torch.nn as nn\n",
    "from torch import optim\n",
    "import torch.nn.functional as F\n",
    "from torch.utils.data import DataLoader\n",
    "from torch.autograd import Variable\n",
    "\n",
    "from torch.nn.utils.rnn import pad_packed_sequence, pack_padded_sequence\n",
    "from masked_cross_entropy import *\n",
    "\n",
    "device = torch.device(\"cuda\" if torch.cuda.is_available() else \"cpu\")\n",
    "USE_CUDA = True"
   ]
  },
  {
   "cell_type": "markdown",
   "metadata": {},
   "source": [
    "## * Helper function"
   ]
  },
  {
   "cell_type": "code",
   "execution_count": 2,
   "metadata": {},
   "outputs": [],
   "source": [
    "def asMinutes(s):\n",
    "    m = math.floor(s / 60)\n",
    "    s -= m * 60\n",
    "    return '%dm %ds' % (m, s)\n",
    "\n",
    "def timeSince(since, percent):\n",
    "    now = time.time()\n",
    "    s = now - since\n",
    "    es = s / (percent)\n",
    "    rs = es - s\n",
    "    return '%s (- %s)' % (asMinutes(s), asMinutes(rs))\n",
    "\n",
    "# cost_function plot\n",
    "def showPlot(points):\n",
    "    plt.figure()\n",
    "    fig, ax = plt.subplots()\n",
    "    # this locator puts ticks at regular intervals\n",
    "    loc = ticker.MultipleLocator(base=0.2)\n",
    "    ax.yaxis.set_major_locator(loc)\n",
    "    plt.plot(points)\n",
    "    plt.show()"
   ]
  },
  {
   "cell_type": "markdown",
   "metadata": {},
   "source": [
    "# 1. Data preparation"
   ]
  },
  {
   "cell_type": "code",
   "execution_count": 3,
   "metadata": {},
   "outputs": [],
   "source": [
    "class voc:\n",
    "    def __init__(self):\n",
    "        self.word2index = {}\n",
    "        self.word2count = {}\n",
    "        self.index2word = {0: 'PAD', 1: 'SOS', 2: 'EOS'}\n",
    "        self.n_words = 3  # Count PAD, SOS and EOS\n",
    "        self.max_length = 1\n",
    "\n",
    "    def addWord(self, word):\n",
    "        if word not in self.word2index:\n",
    "            self.word2index[word] = self.n_words\n",
    "            self.word2count[word] = 1\n",
    "            self.index2word[self.n_words] = word\n",
    "            self.n_words += 1\n",
    "        else:\n",
    "            self.word2count[word] += 1\n",
    "            \n",
    "    def addSentence(self, sentence):\n",
    "        i = 0\n",
    "        for word in sentence.split():\n",
    "            self.addWord(word)\n",
    "            i+=1\n",
    "        if i > self.max_length:\n",
    "            self.max_length = i    "
   ]
  },
  {
   "cell_type": "markdown",
   "metadata": {},
   "source": [
    "## * Clean text: remove punctuations, truncate the length and group into pairs"
   ]
  },
  {
   "cell_type": "code",
   "execution_count": 4,
   "metadata": {},
   "outputs": [],
   "source": [
    "# remove punctuations\n",
    "def unicodeToAscii(s):\n",
    "    return ''.join(\n",
    "        c for c in unicodedata.normalize('NFD', s)\n",
    "        if unicodedata.category(c) != 'Mn'\n",
    "    )\n",
    "\n",
    "# Lowercase, trim, and remove non-letter characters\n",
    "def normalizeString(s):\n",
    "    s = unicodeToAscii(s.lower().strip())\n",
    "    s = re.sub(r\"([.!?])\", r\" \\1\", s)\n",
    "    s = re.sub(r\"[^a-zA-Z]+\", r\" \", s)\n",
    "    return s"
   ]
  },
  {
   "cell_type": "code",
   "execution_count": 5,
   "metadata": {},
   "outputs": [],
   "source": [
    "def read_data(data_path):        \n",
    "    '''\n",
    "    Return cleaned a list of pairs, e.g. [[pair1, pair2], [pair3, pair4], ...]\n",
    "    '''\n",
    "    # Read the file and split into lines\n",
    "    lines = open(data_path, encoding='utf-8').\\\n",
    "        read().strip().split('\\n')\n",
    "    # Split every line into pairs and normalize\n",
    "    pairs = []\n",
    "    for i in range(0,len(lines),2):\n",
    "        pairs.append([normalizeString(lines[i]), normalizeString(lines[i+1])])\n",
    "    return pairs"
   ]
  },
  {
   "cell_type": "code",
   "execution_count": 6,
   "metadata": {},
   "outputs": [],
   "source": [
    "# trim the pairs by max_length\n",
    "def filterPair(p, MAX_LENGTH):\n",
    "    return len(p[0].split(' ')) < MAX_LENGTH and \\\n",
    "        len(p[1].split(' ')) < MAX_LENGTH\n",
    "\n",
    "def filterPairs(pairs, MAX_LENGTH):\n",
    "    return [pair for pair in pairs if filterPair(pair, MAX_LENGTH)]"
   ]
  },
  {
   "cell_type": "code",
   "execution_count": 7,
   "metadata": {},
   "outputs": [],
   "source": [
    "def prep_data(data_path, MAX_LENGTH):\n",
    "    '''\n",
    "    Return voc instance, and trimed and cleaned pairs\n",
    "    '''\n",
    "    pairs = read_data(data_path)\n",
    "    print(\"Read %s sentence pairs\" % len(pairs))\n",
    "    pairs = filterPairs(pairs, MAX_LENGTH)\n",
    "    print(\"Trimmed to %s sentence pairs\" % len(pairs))\n",
    "    # initialize voc instance\n",
    "    lang = voc()\n",
    "    print(\"Counting words...\")\n",
    "    for pair in pairs:\n",
    "        lang.addSentence(pair[0])\n",
    "        lang.addSentence(pair[1])\n",
    "    print(\"Counted words:\")\n",
    "    print(lang.n_words)\n",
    "    return lang, pairs"
   ]
  },
  {
   "cell_type": "code",
   "execution_count": 10,
   "metadata": {},
   "outputs": [
    {
     "name": "stdout",
     "output_type": "stream",
     "text": [
      "Read 3406 sentence pairs\n",
      "Trimmed to 3127 sentence pairs\n",
      "Counting words...\n",
      "Counted words:\n",
      "5532\n",
      "['this boulder on my shoulder gets heavy and harda to hold', 'and this load is like the weight of the world']\n"
     ]
    }
   ],
   "source": [
    "# test things out\n",
    "data_path = '../data/eminem.txt'\n",
    "lang, pairs = prep_data(data_path, MAX_LENGTH = 20)\n",
    "print(random.choice(pairs))"
   ]
  },
  {
   "cell_type": "markdown",
   "metadata": {},
   "source": [
    "## * Tensorization (pair -> split -> add EOS token -> tensor -> integer encoding)"
   ]
  },
  {
   "cell_type": "code",
   "execution_count": 8,
   "metadata": {},
   "outputs": [],
   "source": [
    "# word to index\n",
    "def indexesFromSentence(lang, sentence):\n",
    "    return [lang.word2index[word] for word in sentence.split()]\n",
    "# add EOS_token at the end of sentence\n",
    "def tensorFromSentence(lang, sentence):\n",
    "    indexes = indexesFromSentence(lang, sentence)\n",
    "    indexes.append(EOS_token)\n",
    "    # convert indexes into torch.long datatype\n",
    "    return torch.tensor(indexes, dtype=torch.long, device=device).view(-1, 1)\n",
    "# split pair into input and target\n",
    "def tensorsFromPair(pair):\n",
    "    input_tensor = tensorFromSentence(lang, pair[0])\n",
    "    target_tensor = tensorFromSentence(lang, pair[1])\n",
    "    return (input_tensor, target_tensor)"
   ]
  },
  {
   "cell_type": "markdown",
   "metadata": {},
   "source": [
    "## * Pretrained embeddings"
   ]
  },
  {
   "cell_type": "code",
   "execution_count": 9,
   "metadata": {},
   "outputs": [],
   "source": [
    "# alternative way to import glove\n",
    "# from torchnlp.word_to_vector import GloVe\n",
    "\n",
    "def pretrained(glove_path):\n",
    "    '''\n",
    "    load pretrained glove and return it as a dictionary\n",
    "    '''\n",
    "    # dimension of import word2vec file\n",
    "    glove = {}\n",
    "    with open(glove_path,'r') as f:\n",
    "        for line in f:\n",
    "            values = line.split()\n",
    "            word = values[0]\n",
    "            coefs = np.asarray(values[1:], dtype='float32')\n",
    "            glove[word] = coefs\n",
    "    return glove\n",
    "\n",
    "def embeds(glove_path, EMBEDDING_DIM, non_trainable=True):\n",
    "    '''\n",
    "    match pretrained embedding and dataset\n",
    "    '''\n",
    "    glove = pretrained(glove_path)\n",
    "    embedding_matrix = np.zeros((lang.n_words, EMBEDDING_DIM)) # initialization\n",
    "    # count words that appear only in the dataset. word_index.items() yields dict of word:index pair\n",
    "    for word, ix in lang.word2index.items():\n",
    "        embedding_vector = glove.get(word)\n",
    "        if embedding_vector is not None:\n",
    "            # words not found in glove matrix will be all-zeros.\n",
    "            embedding_matrix[ix] = embedding_vector\n",
    "    # change the datatype from numpy_array to torch_tensor\n",
    "    weight = torch.FloatTensor(embedding_matrix)\n",
    "    # convert to the embedding of pytorch\n",
    "    embedding_matrix = nn.Embedding.from_pretrained(weight)\n",
    "    # make it non-trainable\n",
    "    if non_trainable:\n",
    "        embedding_matrix.weight.requires_grad = False\n",
    "    \n",
    "    return embedding_matrix, glove"
   ]
  },
  {
   "cell_type": "markdown",
   "metadata": {},
   "source": [
    "# Encoder-decoder"
   ]
  },
  {
   "cell_type": "code",
   "execution_count": 11,
   "metadata": {},
   "outputs": [],
   "source": [
    "# Generic decoder\n",
    "class EncoderRNN(nn.Module):\n",
    "    def __init__(self, input_size, hidden_size):\n",
    "        super(EncoderRNN, self).__init__()\n",
    "        self.hidden_size = hidden_size\n",
    "\n",
    "        # self.embedding = nn.Embedding(input_size, hidden_size) # from scratch\n",
    "        self.embedding, _ = embeds(glove_path, EMBEDDING_DIM, True) # load pretrained embedding\n",
    "        self.gru = nn.GRU(hidden_size, hidden_size)\n",
    "    \n",
    "    # this forward function only takes one sample\n",
    "    def forward(self, input, hidden):\n",
    "        # for one word, embedded vector in 3D tensor is reshaped into (1, 1, -1)\n",
    "        embedded = self.embedding(input).view(1, 1, -1)\n",
    "        output = embedded\n",
    "        output, hidden = self.gru(output, hidden)\n",
    "        return output, hidden\n",
    "\n",
    "    def initHidden(self):\n",
    "        return torch.zeros(1, 1, self.hidden_size, device=device)"
   ]
  },
  {
   "cell_type": "code",
   "execution_count": 13,
   "metadata": {},
   "outputs": [],
   "source": [
    "# Vanilla decoder\n",
    "class DecoderRNN(nn.Module):\n",
    "    def __init__(self, hidden_size, output_size):\n",
    "        super(DecoderRNN, self).__init__()\n",
    "        self.hidden_size = hidden_size\n",
    "\n",
    "        self.embedding = nn.Embedding(output_size, hidden_size)\n",
    "        self.gru = nn.GRU(hidden_size, hidden_size)\n",
    "        self.out = nn.Linear(hidden_size, output_size)\n",
    "        self.softmax = nn.LogSoftmax(dim=1)\n",
    "\n",
    "    def forward(self, input, hidden):\n",
    "        output = self.embedding(input).view(1, 1, -1)\n",
    "        output = F.relu(output)\n",
    "        output, hidden = self.gru(output, hidden)\n",
    "        output = self.softmax(self.out(output[0]))\n",
    "        return output, hidden"
   ]
  },
  {
   "cell_type": "code",
   "execution_count": 16,
   "metadata": {},
   "outputs": [],
   "source": [
    "# Attention implemented decoder\n",
    "class AttnDecoderRNN(nn.Module):\n",
    "    def __init__(self, hidden_size, output_size, dropout_p=0.1, max_length=MAX_LENGTH):\n",
    "        super(AttnDecoderRNN, self).__init__()\n",
    "#         nn.Module.__init__(self)\n",
    "        \n",
    "        self.hidden_size = hidden_size\n",
    "        self.output_size = output_size\n",
    "        self.dropout_p = dropout_p\n",
    "        self.max_length = max_length\n",
    "\n",
    "        # self.embedding = nn.Embedding(self.output_size, self.hidden_size) # from sratch\n",
    "        self.embedding, _ = embeds(glove_path, EMBEDDING_DIM, True) # load pretrained embedding\n",
    "        # attention layer\n",
    "        self.attn = nn.Linear(self.hidden_size * 2, self.max_length)\n",
    "        self.attn_combine = nn.Linear(self.hidden_size * 2, self.hidden_size)\n",
    "        self.dropout = nn.Dropout(self.dropout_p)\n",
    "        # gru layer\n",
    "        self.gru = nn.GRU(self.hidden_size, self.hidden_size)\n",
    "        self.out = nn.Linear(self.hidden_size, self.output_size)\n",
    "\n",
    "    def forward(self, input, hidden, encoder_outputs):\n",
    "        # embedded layer\n",
    "        embedded = self.embedding(input).view(1, 1, -1)\n",
    "        embedded = self.dropout(embedded)\n",
    "        # attention layer\n",
    "        attn_weights = F.softmax(\n",
    "            self.attn(torch.cat((embedded[0], hidden[0]), 1)), dim=1) # concat hidden unit and embedded vector\n",
    "        # apply weights on encoder outputs\n",
    "        attn_applied = torch.bmm(attn_weights.unsqueeze(0),\n",
    "                                 encoder_outputs.unsqueeze(0))\n",
    "        # concat embedded vector and weighted decoder output\n",
    "        output = torch.cat((embedded[0], attn_applied[0]), 1)\n",
    "        output = self.attn_combine(output).unsqueeze(0)\n",
    "        # relu + gru\n",
    "        output = F.relu(output)\n",
    "        output, hidden = self.gru(output, hidden)\n",
    "        # softmax out\n",
    "        output = F.log_softmax(self.out(output[0]), dim=1)\n",
    "        return output, hidden, attn_weights"
   ]
  },
  {
   "cell_type": "markdown",
   "metadata": {},
   "source": [
    "# Stochastic training"
   ]
  },
  {
   "cell_type": "code",
   "execution_count": 23,
   "metadata": {},
   "outputs": [],
   "source": [
    "teacher_forcing_ratio = 0.5\n",
    "# this function only trains on one pair\n",
    "\n",
    "def train(input_tensor, target_tensor, encoder, decoder, encoder_optimizer, \n",
    "          decoder_optimizer, criterion, max_length=MAX_LENGTH):\n",
    "    # reset memory state at the start of taking a new input\n",
    "    encoder_hidden = encoder.initHidden()\n",
    "    # cleanup encoder/decoder grads\n",
    "    encoder_optimizer.zero_grad()\n",
    "    decoder_optimizer.zero_grad()\n",
    "\n",
    "    input_length = input_tensor.size(0)\n",
    "    target_length = target_tensor.size(0)\n",
    "    # need to save encoder_outputs, so we initialized it as zero matrix first\n",
    "    # encoder_outputs will be using to calculate attention weights\n",
    "    encoder_outputs = torch.zeros(max_length, encoder.hidden_size, device=device)\n",
    "\n",
    "    loss = 0\n",
    "    correct = 0\n",
    "    total = 0\n",
    "\n",
    "    for ei in range(input_length):\n",
    "        # note that encoder_output is a vector with length = hidden_size\n",
    "        encoder_output, encoder_hidden = encoder(input_tensor[ei], encoder_hidden)\n",
    "        # append output to encoder_outputs\n",
    "        encoder_outputs[ei] = encoder_output[0, 0]\n",
    "    \n",
    "    #################################################################################\n",
    "    # decoder part\n",
    "    # decoder_input starts with SOS_token\n",
    "    decoder_input = torch.tensor([[SOS_token]], device=device)\n",
    "    # first decoder_hidden = last encoder_hidden\n",
    "    decoder_hidden = encoder_hidden\n",
    "    \n",
    "    # teacher forcing\n",
    "    use_teacher_forcing = True if random.random() < teacher_forcing_ratio else False\n",
    "\n",
    "    if use_teacher_forcing:\n",
    "        # Teacher forcing: Feed the target as the next input\n",
    "        for di in range(target_length):\n",
    "            # feed input into decoder which yields output, next hidden unit, decoder attention\n",
    "            decoder_output, decoder_hidden, decoder_attention = decoder(\n",
    "                decoder_input, decoder_hidden, encoder_outputs)\n",
    "            # obtain loss from optimizer\n",
    "            loss += criterion(decoder_output, target_tensor[di])\n",
    "            decoder_input = target_tensor[di]  # Teacher forcing\n",
    "            # collect info for obtaining accuracy\n",
    "            total +=1\n",
    "            # greedy search\n",
    "            topv, topi = decoder_output.data.topk(1)\n",
    "            if topi == target_tensor[di]: correct +=1\n",
    "\n",
    "    else:\n",
    "        # Without teacher forcing: use its own predictions as the next input\n",
    "        for di in range(target_length):\n",
    "            decoder_output, decoder_hidden, decoder_attention = decoder(\n",
    "                decoder_input, decoder_hidden, encoder_outputs)\n",
    "            topv, topi = decoder_output.topk(1)\n",
    "            decoder_input = topi.squeeze().detach()  # detach from history as input\n",
    "\n",
    "            loss += criterion(decoder_output, target_tensor[di])\n",
    "            # collect info for obtaining accuracy\n",
    "            total +=1\n",
    "            # greedy search\n",
    "            topv, topi = decoder_output.data.topk(1)\n",
    "            if topi == target_tensor[di]: correct +=1\n",
    "            # break if EOS_token generated\n",
    "            if decoder_input.item() == EOS_token:\n",
    "                break\n",
    "    \n",
    "    # accumulate gradient by virtue of backpropagation\n",
    "    loss.backward()\n",
    "    # update weights\n",
    "    encoder_optimizer.step()\n",
    "    decoder_optimizer.step()\n",
    "\n",
    "    return loss.item() / target_length, correct, total"
   ]
  },
  {
   "cell_type": "markdown",
   "metadata": {},
   "source": [
    "## * Validation"
   ]
  },
  {
   "cell_type": "code",
   "execution_count": 25,
   "metadata": {},
   "outputs": [],
   "source": [
    "def validation(input_tensor, target_tensor, encoder, decoder, criterion, max_length=MAX_LENGTH):\n",
    "    '''\n",
    "    This function will run on one sample\n",
    "    input_tensor, target_tensor -> integer encoded\n",
    "    encoder, decoder -> instantiated encoder and decoder\n",
    "    criterion -> will be given in trainIter\n",
    "    max_length -> required to build encoder_outputs\n",
    "    \n",
    "    returns: averaged loss, correctly predicted words, total words predicted\n",
    "    '''\n",
    "    loss = 0\n",
    "    correct = 0\n",
    "    \n",
    "    with torch.no_grad():\n",
    "        # prepare input from encoder end\n",
    "        input_length = input_tensor.size(0)\n",
    "        target_length = target_tensor.size(0)\n",
    "        encoder_hidden = encoder.initHidden()\n",
    "        # initiate output matrix from encoder\n",
    "        encoder_outputs = torch.zeros(max_length, encoder.hidden_size, device=device)\n",
    "\n",
    "        for ei in range(input_length):\n",
    "            encoder_output, encoder_hidden = encoder(input_tensor[ei], encoder_hidden)\n",
    "            # append output to encoder_outputs matrix\n",
    "            encoder_outputs[ei] += encoder_output[0, 0]\n",
    "            \n",
    "        ########################################################################\n",
    "        # decoder part\n",
    "        # first input of decoder is SOS_token\n",
    "        decoder_input = torch.tensor([[SOS_token]], device=device)\n",
    "        # hidden unit is the last hidden unit from encoder\n",
    "        decoder_hidden = encoder_hidden\n",
    "        # for loop for each word in the sequence\n",
    "        for di in range(target_length):\n",
    "            decoder_output, decoder_hidden, _ = decoder(\n",
    "                decoder_input, decoder_hidden, encoder_outputs)\n",
    "            # a.topk(n) yields top n items from a and corresponding index of items\n",
    "            # greedy search output\n",
    "            topv, topi = decoder_output.data.topk(1)\n",
    "            decoder_input = topi.squeeze().detach()\n",
    "            if topi == target_tensor[di]: correct +=1\n",
    "            # accumulate loss\n",
    "            loss += criterion(decoder_output, target_tensor[di])\n",
    "            # .item() convert datatype from torch tensor to int\n",
    "            if topi.item() == EOS_token: break\n",
    "            \n",
    "        return loss.item()/target_length, correct, target_length\n",
    "\n",
    "def validIter(testing_pairs, encoder, decoder, criterion):\n",
    "    '''\n",
    "    testing_pairs -> integer encoded input\n",
    "    encoder/decoder -> instantiated encoder/decoder\n",
    "    criterion -> defined in trainIter\n",
    "    \n",
    "    returns: averaged loss, averaged accuracy\n",
    "    '''\n",
    "    correct_total = 0\n",
    "    total_total = 0\n",
    "    loss_total = 0\n",
    "    data_size = len(testing_pairs)\n",
    "    \n",
    "    for itr in range(data_size):\n",
    "\n",
    "        pair = testing_pairs[itr]\n",
    "        input_tensor = pair[0]\n",
    "        target_tensor = pair[1]\n",
    "        # obtain loss from train function\n",
    "        loss, correct, total = validation(input_tensor, target_tensor, encoder,\n",
    "                     decoder, criterion, max_length=MAX_LENGTH)\n",
    "        # accumulate metrics\n",
    "        correct_total += correct\n",
    "        total_total += total\n",
    "        loss_total += loss\n",
    "    \n",
    "    return loss_total/data_size, correct_total/total_total * 100"
   ]
  },
  {
   "cell_type": "markdown",
   "metadata": {},
   "source": [
    "## * Iteration of train"
   ]
  },
  {
   "cell_type": "code",
   "execution_count": 37,
   "metadata": {},
   "outputs": [],
   "source": [
    "def trainIters(encoder, decoder, epochs=2, learning_rate=0.01):\n",
    "    \n",
    "    # store loss of train and test\n",
    "    loss_array_train, loss_array_test = [], []\n",
    "    \n",
    "    # create optimizer for encoder and decoder\n",
    "    encoder_optimizer = optim.Adam(encoder.parameters(), lr=learning_rate)\n",
    "    decoder_optimizer = optim.Adam(decoder.parameters(), lr=learning_rate)\n",
    "    \n",
    "    # train/test split\n",
    "    pairs_train, pairs_test = train_test_split(pairs, test_size=0.2, random_state=666)\n",
    "    # randomly select pairs from training set and have them integer encoded\n",
    "    # epoch is meaningless in this case\n",
    "    # training_pairs = [tensorsFromPair(random.choice(pairs_train)) for i in range(n_iters)]    \n",
    "    training_pairs = [tensorsFromPair(pair) for pair in pairs_train]\n",
    "    testing_pairs = [tensorsFromPair(pair) for pair in pairs_test]\n",
    "\n",
    "    # negative log-likelihood\n",
    "    # criterion = nn.NLLLoss()\n",
    "    criterion = nn.CrossEntropyLoss()\n",
    "    \n",
    "    batch_size = 20\n",
    "    \n",
    "    for epoch in range(epochs):\n",
    "        print('Training on epoch_{}'.format(epoch+1))\n",
    "        \n",
    "#         # loss and acc of training set\n",
    "#         loss_train, acc_train = batchIter(training_pairs, encoder, decoder, encoder_optimizer, \n",
    "#         decoder_optimizer, criterion, batch_size, max_length=MAX_LENGTH)\n",
    "        \n",
    "        # loss and acc of testing set \n",
    "        loss_test, acc_test = validIter(testing_pairs, encoder, decoder, criterion)            \n",
    "        \n",
    "        # append losses to arrays\n",
    "        loss_array_train.append(loss_test)\n",
    "        loss_array_test.append(loss_test)\n",
    "        # verbose\n",
    "        print('<= Done! => loss_train:{}, acc_train:{}%, loss_test:{}, acc_test:{}%'\n",
    "              .format(round(loss_test,2), round(acc_test, 2), round(loss_test,2), round(acc_test, 2)))\n",
    "\n",
    "    showPlot(loss_array_train)\n",
    "    showPlot(loss_array_test)"
   ]
  },
  {
   "cell_type": "markdown",
   "metadata": {},
   "source": [
    "# Run model"
   ]
  },
  {
   "cell_type": "code",
   "execution_count": 22,
   "metadata": {},
   "outputs": [
    {
     "name": "stdout",
     "output_type": "stream",
     "text": [
      "Read 3406 sentence pairs\n",
      "Trimmed to 3127 sentence pairs\n",
      "Counting words...\n",
      "Counted words:\n",
      "5532\n"
     ]
    }
   ],
   "source": [
    "glove_path = 'glove.6B.50d.txt'\n",
    "EMBEDDING_DIM = 50\n",
    "MAX_LENGTH = 20\n",
    "\n",
    "PAD_token = 0\n",
    "SOS_token = 1\n",
    "EOS_token = 2\n",
    "hidden_size = EMBEDDING_DIM\n",
    "\n",
    "lang, pairs = prep_data('eminem.txt', MAX_LENGTH = 20)"
   ]
  },
  {
   "cell_type": "code",
   "execution_count": 139,
   "metadata": {},
   "outputs": [],
   "source": [
    "encoder_test = EncoderRNN(lang.n_words, hidden_size).to(device)\n",
    "decoder_test = AttnDecoderRNN(hidden_size, lang.n_words, dropout_p=0.1).to(device)"
   ]
  },
  {
   "cell_type": "code",
   "execution_count": 38,
   "metadata": {},
   "outputs": [
    {
     "name": "stdout",
     "output_type": "stream",
     "text": [
      "Training on epoch_1\n",
      "<= Done! => loss_train:8.66, acc_train:0.0%, loss_test:8.66, acc_test:0.0%\n",
      "Training on epoch_2\n",
      "<= Done! => loss_train:8.66, acc_train:0.0%, loss_test:8.66, acc_test:0.0%\n"
     ]
    },
    {
     "data": {
      "text/plain": [
       "<Figure size 432x288 with 0 Axes>"
      ]
     },
     "metadata": {},
     "output_type": "display_data"
    },
    {
     "data": {
      "image/png": "[encoded data removed]",
      "text/plain": [
       "<Figure size 432x288 with 1 Axes>"
      ]
     },
     "metadata": {
      "needs_background": "light"
     },
     "output_type": "display_data"
    },
    {
     "data": {
      "text/plain": [
       "<Figure size 432x288 with 0 Axes>"
      ]
     },
     "metadata": {},
     "output_type": "display_data"
    },
    {
     "data": {
      "image/png": "[encoded data removed]",
      "text/plain": [
       "<Figure size 432x288 with 1 Axes>"
      ]
     },
     "metadata": {
      "needs_background": "light"
     },
     "output_type": "display_data"
    }
   ],
   "source": [
    "trainIters(encoder_test, decoder_test, 2, 0.01)"
   ]
  },
  {
   "cell_type": "markdown",
   "metadata": {},
   "source": [
    "# Evaluation"
   ]
  },
  {
   "cell_type": "code",
   "execution_count": 25,
   "metadata": {},
   "outputs": [],
   "source": [
    "def evaluate(encoder, decoder, sentence, max_length=MAX_LENGTH):\n",
    "    with torch.no_grad():\n",
    "        # prepare input from encoder end\n",
    "        input_tensor = tensorFromSentence(lang, sentence)\n",
    "        input_length = input_tensor.size()[0]\n",
    "        encoder_hidden = encoder.initHidden()\n",
    "        # initiate output matrix from encoder\n",
    "        encoder_outputs = torch.zeros(max_length, encoder.hidden_size, device=device)\n",
    "\n",
    "        for ei in range(input_length):\n",
    "            encoder_output, encoder_hidden = encoder(input_tensor[ei],\n",
    "                                                     encoder_hidden)\n",
    "            # append output to encoder_outputs matrix\n",
    "            encoder_outputs[ei] += encoder_output[0, 0]\n",
    "        # first input of decoder is SOS_token\n",
    "        decoder_input = torch.tensor([[SOS_token]], device=device)\n",
    "        # hidden unit is the last hidden unit from encoder\n",
    "        decoder_hidden = encoder_hidden\n",
    "        \n",
    "        # initialize output list from decoder\n",
    "        decoded_words = []\n",
    "        # initialize attention matrix\n",
    "        decoder_attentions = torch.zeros(max_length, max_length)\n",
    "\n",
    "        for di in range(max_length):\n",
    "            decoder_output, decoder_hidden, decoder_attention = decoder(\n",
    "                decoder_input, decoder_hidden, encoder_outputs)\n",
    "            # append attention\n",
    "            decoder_attentions[di] = decoder_attention.data\n",
    "            # a.topk(n) yields top n items from a and corresponding index of items\n",
    "            # greedy search output\n",
    "            topv, topi = decoder_output.data.topk(1)\n",
    "            # .item() convert datatype from torch tensor to int\n",
    "            if topi.item() == EOS_token:\n",
    "                decoded_words.append('<EOS>')\n",
    "                break\n",
    "            else:\n",
    "                # index to word\n",
    "                decoded_words.append(lang.index2word[topi.item()])\n",
    "            # new input is the output from last word\n",
    "            decoder_input = topi.squeeze().detach()\n",
    "\n",
    "        return decoded_words, decoder_attentions[:di + 1]\n"
   ]
  },
  {
   "cell_type": "code",
   "execution_count": 26,
   "metadata": {},
   "outputs": [],
   "source": [
    "def evaluateRandomly(encoder, decoder, n=10):\n",
    "    for i in range(n):\n",
    "        pair = random.choice(pairs)\n",
    "        print('>', pair[0])\n",
    "        print('=', pair[1])\n",
    "        output_words, attentions = evaluate(encoder, decoder, pair[0])\n",
    "        output_sentence = ' '.join(output_words)\n",
    "        print('<', output_sentence)\n",
    "        print('')"
   ]
  },
  {
   "cell_type": "code",
   "execution_count": 208,
   "metadata": {},
   "outputs": [
    {
     "data": {
      "text/plain": [
       "<matplotlib.image.AxesImage at 0x7f11a76a1a20>"
      ]
     },
     "execution_count": 208,
     "metadata": {},
     "output_type": "execute_result"
    },
    {
     "data": {
      "image/png": "[encoded data removed]",
      "text/plain": [
       "<Figure size 1152x144 with 1 Axes>"
      ]
     },
     "metadata": {
      "needs_background": "light"
     },
     "output_type": "display_data"
    }
   ],
   "source": [
    "output_words, attentions = evaluate(encoder1, attn_decoder1, \"i am rap god\")\n",
    "plt.matshow(attentions.numpy())"
   ]
  },
  {
   "cell_type": "code",
   "execution_count": 27,
   "metadata": {},
   "outputs": [],
   "source": [
    "def showAttention(input_sentence, output_words, attentions):\n",
    "    # Set up figure with colorbar\n",
    "    fig = plt.figure()\n",
    "    ax = fig.add_subplot(111)\n",
    "    cax = ax.matshow(attentions.numpy(), cmap='bone')\n",
    "    fig.colorbar(cax)\n",
    "\n",
    "    # Set up axes\n",
    "    ax.set_xticklabels([''] + input_sentence.split(' ') +\n",
    "                       ['<EOS>'], rotation=90)\n",
    "    ax.set_yticklabels([''] + output_words)\n",
    "\n",
    "    # Show label at every tick\n",
    "    ax.xaxis.set_major_locator(ticker.MultipleLocator(1))\n",
    "    ax.yaxis.set_major_locator(ticker.MultipleLocator(1))\n",
    "\n",
    "    plt.show()\n",
    "\n",
    "\n",
    "def evaluateAndShowAttention(input_sentence):\n",
    "    output_words, attentions = evaluate(\n",
    "        encoder1, attn_decoder1, input_sentence)\n",
    "    print('input =', input_sentence)\n",
    "    print('output =', ' '.join(output_words))\n",
    "    showAttention(input_sentence, output_words, attentions)"
   ]
  },
  {
   "cell_type": "code",
   "execution_count": 212,
   "metadata": {},
   "outputs": [
    {
     "name": "stdout",
     "output_type": "stream",
     "text": [
      "input = i am rap god\n",
      "output = i <EOS>\n"
     ]
    },
    {
     "data": {
      "image/png": "[encoded data removed]",
      "text/plain": [
       "<Figure size 432x288 with 2 Axes>"
      ]
     },
     "metadata": {
      "needs_background": "light"
     },
     "output_type": "display_data"
    }
   ],
   "source": [
    "evaluateAndShowAttention(\"i am rap god\")"
   ]
  },
  {
   "cell_type": "code",
   "execution_count": null,
   "metadata": {},
   "outputs": [],
   "source": [
    "SOS_token = 1\n",
    "    batch_size = input_batches.size(1)\n",
    "    # Zero gradients of both optimizers\n",
    "    encoder_optimizer.zero_grad()\n",
    "    decoder_optimizer.zero_grad()\n",
    "    loss = 0 # Added onto for each word\n",
    "\n",
    "    # Run words through encoder\n",
    "    encoder_outputs, encoder_hidden = encoder(input_batches, input_lengths, None)\n",
    "    \n",
    "    # Prepare input and output variables\n",
    "    decoder_input = Variable(torch.LongTensor([SOS_token] * batch_size))\n",
    "    decoder_hidden = encoder_hidden[:decoder.n_layers] # Use last (forward) hidden state from encoder\n",
    "    \n",
    "    # max_length of batch data\n",
    "    max_target_length = max(target_lengths)\n",
    "    all_decoder_outputs = Variable(torch.zeros(max_target_length, batch_size, decoder.output_size))\n",
    "\n",
    "    # Move new Variables to CUDA\n",
    "    if USE_CUDA:\n",
    "        decoder_input = decoder_input.cuda()\n",
    "        all_decoder_outputs = all_decoder_outputs.cuda()\n",
    "\n",
    "    # Run through decoder one time step at a time\n",
    "    for t in range(max_target_length):\n",
    "        decoder_output, decoder_hidden, decoder_attn = decoder(\n",
    "            decoder_input, decoder_hidden, encoder_outputs\n",
    "        )\n",
    "\n",
    "        all_decoder_outputs[t] = decoder_output\n",
    "        decoder_input = target_batches[t] # Next input is current target\n",
    "\n",
    "    # Loss for batch data\n",
    "    loss = masked_cross_entropy(\n",
    "    all_decoder_outputs.transpose(0, 1).contiguous(),\n",
    "    target_batches.transpose(0, 1).contiguous(),\n",
    "    target_lengths)\n",
    "    \n",
    "    # accumulate gradients\n",
    "    loss.backward()\n",
    "    \n",
    "    # Clip gradient norms to prevent exploding gradient issue\n",
    "    ec = torch.nn.utils.clip_grad_norm_(encoder.parameters(), clip)\n",
    "    dc = torch.nn.utils.clip_grad_norm_(decoder.parameters(), clip)\n",
    "\n",
    "    # Update parameters with optimizers\n",
    "    encoder_optimizer.step()\n",
    "    decoder_optimizer.step()\n",
    "    \n",
    "    return loss.item(), ec, dc"
   ]
  },
  {
   "cell_type": "code",
   "execution_count": null,
   "metadata": {},
   "outputs": [],
   "source": []
  },
  {
   "cell_type": "code",
   "execution_count": null,
   "metadata": {},
   "outputs": [],
   "source": []
  },
  {
   "cell_type": "code",
   "execution_count": null,
   "metadata": {},
   "outputs": [],
   "source": []
  },
  {
   "cell_type": "code",
   "execution_count": null,
   "metadata": {},
   "outputs": [],
   "source": []
  },
  {
   "cell_type": "code",
   "execution_count": null,
   "metadata": {},
   "outputs": [],
   "source": []
  }
 ],
 "metadata": {
  "kernelspec": {
   "display_name": "Python [conda env:dlpy36]",
   "language": "python",
   "name": "conda-env-dlpy36-py"
  },
  "language_info": {
   "codemirror_mode": {
    "name": "ipython",
    "version": 3
   },
   "file_extension": ".py",
   "mimetype": "text/x-python",
   "name": "python",
   "nbconvert_exporter": "python",
   "pygments_lexer": "ipython3",
   "version": "3.6.8"
  }
 },
 "nbformat": 4,
 "nbformat_minor": 2
}
